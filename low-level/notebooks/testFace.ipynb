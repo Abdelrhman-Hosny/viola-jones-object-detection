{
 "cells": [
  {
   "cell_type": "code",
   "execution_count": null,
   "metadata": {},
   "outputs": [
    {
     "ename": "",
     "evalue": "",
     "output_type": "error",
     "traceback": [
      "\u001b[1;31mThe kernel failed to start as a dll could not be loaded. \n",
      "View Jupyter <a href='command:jupyter.viewOutput'>log</a> for further details.\n",
      "<a href='https://aka.ms/kernelFailuresDllLoad'>Learn more</a>"
     ]
    }
   ],
   "source": [
    "# import the opencv library\n",
    "import cv2\n",
    "from FaceDetectionTestWebCam import getFaces\n",
    "from xmlparser import parse_haar_cascade_xml\n",
    "from os.path import abspath, join\n",
    "import facedetectionCython\n",
    "\n",
    "\n",
    "curr_dir = abspath(r'.')\n",
    "xml_path = join(curr_dir, r\"./haarcascade_frontalface_default.xml\")\n",
    "face_cascade = cv2.CascadeClassifier('../../high-level/haar-cascades/haarcascade_frontalface_default.xml')\n",
    "eye_cascade = cv2.CascadeClassifier('../../high-level/haar-cascades/haarcascade_eye.xml')\n",
    "stages, features = parse_haar_cascade_xml(xml_path)\n",
    "# define a video capture object\n",
    "vid = cv2.VideoCapture(0)\n",
    "  \n",
    "while(True):\n",
    "      \n",
    "    # Capture the video frame\n",
    "    # by frame\n",
    "    ret, frame = vid.read()\n",
    "\n",
    "    # frame = cv2.resize(frame, (640, 480))\n",
    "    gray = cv2.cvtColor(frame, cv2.COLOR_BGR2GRAY)\n",
    "    # gray = cv2.GaussianBlur(gray, (9, 9), sigmaX=2, sigmaY=2)\n",
    "    #gray = cv2.equalizeHist(gray)\n",
    "    \n",
    "    #faces = face_cascade.detectMultiScale(gray,scaleFactor=1.1, minNeighbors=2, minSize=(30, 30), flags=cv2.CASCADE_SCALE_IMAGE)\n",
    "    faces = facedetectionCython.getFaces(gray,stages,features)\n",
    "    #print(faces)\n",
    "    for (x,y,scale) in faces:\n",
    "        # print(x,y,w,h)\n",
    "        frame = cv2.rectangle(frame,(x,y),(x + 24*scale,y + 24*scale),(255,0,0),2)\n",
    "        #roi_gray = gray[y:y*scale, x:x*scale]\n",
    "        #roi_color = frame[y:y*scale, x:x*scale]\n",
    "        #eyes = eye_cascade.detectMultiScale(roi_gray, scaleFactor=1.2, minNeighbors=4, minSize=(30, 30), flags=cv2.CASCADE_SCALE_IMAGE)\n",
    "        #for (ex,ey,ew,eh) in eyes:\n",
    "            #cv2.rectangle(roi_color,(ex,ey),(ex+ew,ey+eh),(0,255,0),2)\n",
    "\n",
    "\n",
    "    \n",
    "    # Display the resulting framee\n",
    "    cv2.imshow('frame', frame)\n",
    "      \n",
    "    # the 'q' button is set as the\n",
    "    # quitting button you may use any\n",
    "    # desired button of your choice\n",
    "    if cv2.waitKey(1) & 0xFF == ord('q'):\n",
    "        break\n",
    "  \n",
    "# After the loop release the cap object\n",
    "vid.release()\n",
    "# Destroy all the windows\n",
    "cv2.destroyAllWindows()"
   ]
  },
  {
   "cell_type": "code",
   "execution_count": null,
   "metadata": {},
   "outputs": [],
   "source": []
  }
 ],
 "metadata": {
  "interpreter": {
   "hash": "42a54aafe63a95db0604a80d93a4fa6fa9f42f8d3c71a12843f3d0f2cc946496"
  },
  "kernelspec": {
   "display_name": "Python 3.9.7 64-bit ('ferNew': conda)",
   "language": "python",
   "name": "python3"
  },
  "language_info": {
   "codemirror_mode": {
    "name": "ipython",
    "version": 3
   },
   "file_extension": ".py",
   "mimetype": "text/x-python",
   "name": "python",
   "nbconvert_exporter": "python",
   "pygments_lexer": "ipython3",
   "version": "3.9.7"
  },
  "orig_nbformat": 4
 },
 "nbformat": 4,
 "nbformat_minor": 2
}
